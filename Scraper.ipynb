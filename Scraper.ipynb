{
 "cells": [
  {
   "cell_type": "code",
   "execution_count": 1,
   "id": "0ff49c1a",
   "metadata": {},
   "outputs": [],
   "source": [
    "import requests\n",
    "import logging\n",
    "import os\n",
    "from bs4 import BeautifulSoup\n",
    "from urllib.request import urlopen"
   ]
  },
  {
   "cell_type": "code",
   "execution_count": 2,
   "id": "1ba25f81",
   "metadata": {},
   "outputs": [],
   "source": [
    "save_dir=\"images/\"\n",
    "if not os.path.exists(save_dir):\n",
    "    os.makedirs(save_dir)"
   ]
  },
  {
   "cell_type": "code",
   "execution_count": 3,
   "id": "36b945ed",
   "metadata": {},
   "outputs": [],
   "source": [
    "query=\"Luxury Cars\""
   ]
  },
  {
   "cell_type": "code",
   "execution_count": 4,
   "id": "2bbb9645",
   "metadata": {},
   "outputs": [],
   "source": [
    "response=requests.get(f\"https://www.google.com/search?q={query}&sxsrf=AJOqlzUuff1RXi2mm8I_OqOwT9VjfIDL7w:1676996143273&source=lnms&tbm=isch&sa=X&ved=2ahUKEwiq-qK7gaf9AhXUgVYBHYReAfYQ_AUoA3oECAEQBQ&biw=1920&bih=937&dpr=1#imgrc=1th7VhSesfMJ4M\")"
   ]
  },
  {
   "cell_type": "code",
   "execution_count": 5,
   "id": "18f89f41",
   "metadata": {},
   "outputs": [
    {
     "data": {
      "text/plain": [
       "<Response [200]>"
      ]
     },
     "execution_count": 5,
     "metadata": {},
     "output_type": "execute_result"
    }
   ],
   "source": [
    "response"
   ]
  },
  {
   "cell_type": "code",
   "execution_count": 6,
   "id": "a00c1630",
   "metadata": {},
   "outputs": [],
   "source": [
    "soup=BeautifulSoup(response.content,\"html.parser\")"
   ]
  },
  {
   "cell_type": "code",
   "execution_count": 7,
   "id": "5611b9db",
   "metadata": {},
   "outputs": [
    {
     "data": {
      "text/plain": [
       "<!DOCTYPE html PUBLIC \"-//WAPFORUM//DTD XHTML Mobile 1.0//EN\" \"http://www.wapforum.org/DTD/xhtml-mobile10.dtd\">\n",
       "<html lang=\"en-IN\" xmlns=\"http://www.w3.org/1999/xhtml\"><head><meta content=\"application/xhtml+xml; charset=utf-8\" http-equiv=\"Content-Type\"/><meta content=\"no-cache\" name=\"Cache-Control\"/><title>Luxury Cars - Google Search</title><style>a{text-decoration:none;color:inherit}a:hover{text-decoration:underline}a img{border:0}body{font-family:arial,sans-serif;padding:8px;margin:0 auto;max-width:700px;min-width:240px;}.FbhRzb{border-left:thin solid #dadce0;border-right:thin solid #dadce0;border-top:thin solid #dadce0;height:40px;overflow:hidden}.n692Zd{margin-bottom:10px}.cvifge{height:40px;border-spacing:0}.QvGUP{height:40px;padding:0 8px 0 8px;vertical-align:top}.O4cRJf{height:40px;width:100%;padding:0;padding-right:16px}.O1ePr{height:40px;padding:0;vertical-align:top}.kgJEQe{height:36px;width:98px;vertical-align:top;margin-top:4px}.lXLRf{vertical-align:top}.MhzMZd{border:0;vertical-align:middle;font-size:14px;height:40px;padding:0;width:100%;padding-left:16px}.xB0fq{height:40px;border:none;font-size:14px;background-color:#1a73e8;color:#fff;padding:0 16px;margin:0;vertical-align:top;cursor:pointer}.xB0fq:focus{border:1px solid #1a73e8}.M7pB2{border:thin solid #dadce0;margin:0 0 3px 0;font-size:13px;font-weight:500;height:40px}.euZec{width:100%;height:40px;text-align:center;border-spacing:0}table.euZec td{padding:0;width:25%}.QIqI7{display:inline-block;padding-top:4px;font-weight:bold;color:#4285f4}.EY24We{border-bottom:2px solid #4285f4}.CsQyDc{display:inline-block;color:#70757a}.TuS8Ad{font-size:14px}.HddGcc{padding:8px;color:#70757a}.dzp8ae{font-weight:bold;color:#3c4043}.rEM8G{color:#70757a}.bookcf{table-layout:fixed;width:100%;border-spacing:0}.InWNIe{text-align:center}.uZgmoc{border:thin solid #dadce0;color:#70757a;font-size:14px;text-align:center;table-layout:fixed;width:100%}.frGj1b{display:block;padding:12px 0 12px 0;width:100%}.BnJWBc{text-align:center;padding:6px 0 13px 0;height:35px}.e3goi{vertical-align:top;padding:0;height:180px}.GpQGbf{margin:auto;border-collapse:collapse;border-spacing:0;width:100%}</style></head><body><style>.X6ZCif{color:#202124;font-size:11px;line-height:16px;display:inline-block;padding-top:2px;overflow:hidden;padding-bottom:4px;width:100%}.TwVfHd{border-radius:16px;border:thin solid #dadce0;display:inline-block;padding:8px 8px;margin-right:8px;margin-bottom:4px}.yekiAe{background-color:#dadce0}.jjVJ4e{width:100%}.ezO2md{border:thin solid #dadce0;padding:12px 16px 12px 16px;margin-bottom:10px;font-family:arial,sans-serif}.lIMUZd{font-family:arial,sans-serif}.RntSmf{border-spacing:0}.lgD2Tc{width:100%}.SpelHe{text-align:center}.SpelHe{position:relative}.kCmkOe{position:relative}.kCmkOe{width:162px;height:140px;line-height:140px;overflow:'hidden';text-align:center}.DS1iW{text-align:center;margin:auto;vertical-align:middle;max-width:162px;max-height:140px}.AlD19d{padding-top:2px;padding-bottom:8px;}.fYyStc{word-break:break-word}.ynsChf{display:block;white-space:nowrap;overflow:hidden;text-overflow:ellipsis}.Fj3V3b{color:#1967d2;font-size:14px;line-height:20px}.FrIlee{color:#202124;font-size:11px;line-height:16px}.F9iS2e{color:#70757a;font-size:11px;line-height:16px}.WMQ2Le{color:#70757a;font-size:12px;line-height:16px}.x3G5ab{color:#202124;font-size:12px;line-height:16px}.fuLhoc{color:#1967d2;font-size:16px;line-height:20px}.epoveb{font-size:24px;line-height:28px;font-weight:400;color:#202124}.dXDvrc{color:#0d652d;font-size:14px;line-height:20px;word-wrap:break-word}.dloBPe{font-weight:bold}.YVIcad{color:#70757a}.JkVVdd{color:#ea4335}.oXZRFd{color:#ea4335}.MQHtg{color:#fbbc04}.pyMRrb{color:#1e8e3e}.EtTZid{color:#1e8e3e}.M3vVJe{color:#1967d2}.qXLe6d{display:block}.NHQNef{font-style:italic}.Cb8Z7c{white-space:pre}a.ZWRArf{text-decoration:none}a .CVA68e:hover{text-decoration:underline}</style><div class=\"n692Zd\"><div class=\"BnJWBc\"><a class=\"lXLRf\" href=\"/?sa=X&amp;sca_esv=33fda89bc4ea5a26&amp;sca_upv=1&amp;biw=1920&amp;bih=937&amp;output=images&amp;ie=UTF-8&amp;tbm=isch&amp;ved=0ahUKEwja7ZOrt4GGAxXhzDgGHVwaC_UQPAgC\"><img alt=\"Google\" class=\"kgJEQe\" src=\"/images/branding/searchlogo/1x/googlelogo_desk_heirloom_color_150x55dp.gif\"/></a></div><div class=\"FbhRzb\"><form action=\"/search\"><input name=\"sca_esv\" type=\"hidden\" value=\"33fda89bc4ea5a26\"/><input name=\"sca_upv\" type=\"hidden\" value=\"1\"/><input name=\"biw\" type=\"hidden\" value=\"1920\"/><input name=\"bih\" type=\"hidden\" value=\"937\"/><input name=\"ie\" type=\"hidden\" value=\"ISO-8859-1\"/><input name=\"tbm\" type=\"hidden\" value=\"isch\"/><input name=\"oq\" type=\"hidden\"/><input name=\"aqs\" type=\"hidden\"/><table class=\"cvifge\"><tr><td class=\"O4cRJf\"><input class=\"MhzMZd\" name=\"q\" type=\"text\" value=\"Luxury Cars\"/></td><td class=\"O1ePr\"><input class=\"xB0fq\" type=\"submit\" value=\"Search\"/></td></tr></table></form></div><div class=\"M7pB2\"><table class=\"euZec\"><tbody><tr><td><a class=\"CsQyDc\" href=\"/search?q=Luxury+Cars&amp;sca_esv=33fda89bc4ea5a26&amp;sca_upv=1&amp;biw=1920&amp;bih=937&amp;ie=UTF-8&amp;source=lnms&amp;sa=X&amp;ved=0ahUKEwja7ZOrt4GGAxXhzDgGHVwaC_UQ_AUIBCgA\">ALL</a></td><td class=\"EY24We\"><span class=\"QIqI7\">IMAGES</span></td><td><a class=\"CsQyDc\" href=\"/search?q=Luxury+Cars&amp;sca_esv=33fda89bc4ea5a26&amp;sca_upv=1&amp;biw=1920&amp;bih=937&amp;ie=UTF-8&amp;tbm=vid&amp;source=lnms&amp;sa=X&amp;ved=0ahUKEwja7ZOrt4GGAxXhzDgGHVwaC_UQ_AUIBigC\">VIDEOS</a></td><td><a class=\"CsQyDc\" href=\"/search?q=Luxury+Cars&amp;sca_esv=33fda89bc4ea5a26&amp;sca_upv=1&amp;biw=1920&amp;bih=937&amp;ie=UTF-8&amp;tbm=nws&amp;source=lnms&amp;sa=X&amp;ved=0ahUKEwja7ZOrt4GGAxXhzDgGHVwaC_UQ_AUIBygD\">NEWS</a></td></tr></tbody></table></div></div><div class=\"X6ZCif\"><a class=\"TwVfHd\" href=\"/search?sca_esv=33fda89bc4ea5a26&amp;sca_upv=1&amp;biw=1920&amp;bih=937&amp;ie=UTF-8&amp;tbm=isch&amp;q=Luxury+Cars&amp;chips=q:luxury+cars,g_1:lamborghini&amp;sa=X&amp;ved=0ahUKEwja7ZOrt4GGAxXhzDgGHVwaC_UQ4lYICygA\">lamborghini</a><a class=\"TwVfHd\" href=\"/search?sca_esv=33fda89bc4ea5a26&amp;sca_upv=1&amp;biw=1920&amp;bih=937&amp;ie=UTF-8&amp;tbm=isch&amp;q=Luxury+Cars&amp;chips=q:luxury+cars,g_1:mercedes&amp;sa=X&amp;ved=0ahUKEwja7ZOrt4GGAxXhzDgGHVwaC_UQ4lYIDCgB\">mercedes</a><a class=\"TwVfHd\" href=\"/search?sca_esv=33fda89bc4ea5a26&amp;sca_upv=1&amp;biw=1920&amp;bih=937&amp;ie=UTF-8&amp;tbm=isch&amp;q=Luxury+Cars&amp;chips=q:luxury+cars,g_1:rolls+royce&amp;sa=X&amp;ved=0ahUKEwja7ZOrt4GGAxXhzDgGHVwaC_UQ4lYIDSgC\">rolls royce</a><a class=\"TwVfHd\" href=\"/search?sca_esv=33fda89bc4ea5a26&amp;sca_upv=1&amp;biw=1920&amp;bih=937&amp;ie=UTF-8&amp;tbm=isch&amp;q=Luxury+Cars&amp;chips=q:luxury+cars,g_1:ferrari&amp;sa=X&amp;ved=0ahUKEwja7ZOrt4GGAxXhzDgGHVwaC_UQ4lYIDigD\">ferrari</a><a class=\"TwVfHd\" href=\"/search?sca_esv=33fda89bc4ea5a26&amp;sca_upv=1&amp;biw=1920&amp;bih=937&amp;ie=UTF-8&amp;tbm=isch&amp;q=Luxury+Cars&amp;chips=q:luxury+cars,g_1:bugatti&amp;sa=X&amp;ved=0ahUKEwja7ZOrt4GGAxXhzDgGHVwaC_UQ4lYIDygE\">bugatti</a><a class=\"TwVfHd\" href=\"/search?sca_esv=33fda89bc4ea5a26&amp;sca_upv=1&amp;biw=1920&amp;bih=937&amp;ie=UTF-8&amp;tbm=isch&amp;q=Luxury+Cars&amp;chips=q:luxury+cars,g_1:audi&amp;sa=X&amp;ved=0ahUKEwja7ZOrt4GGAxXhzDgGHVwaC_UQ4lYIECgF\">audi</a><a class=\"TwVfHd\" href=\"/search?sca_esv=33fda89bc4ea5a26&amp;sca_upv=1&amp;biw=1920&amp;bih=937&amp;ie=UTF-8&amp;tbm=isch&amp;q=Luxury+Cars&amp;chips=q:luxury+cars,g_1:bmw&amp;sa=X&amp;ved=0ahUKEwja7ZOrt4GGAxXhzDgGHVwaC_UQ4lYIESgG\">bmw</a><a class=\"TwVfHd\" href=\"/search?sca_esv=33fda89bc4ea5a26&amp;sca_upv=1&amp;biw=1920&amp;bih=937&amp;ie=UTF-8&amp;tbm=isch&amp;q=Luxury+Cars&amp;chips=q:luxury+cars,g_1:porsche&amp;sa=X&amp;ved=0ahUKEwja7ZOrt4GGAxXhzDgGHVwaC_UQ4lYIEigH\">porsche</a><a class=\"TwVfHd\" href=\"/search?sca_esv=33fda89bc4ea5a26&amp;sca_upv=1&amp;biw=1920&amp;bih=937&amp;ie=UTF-8&amp;tbm=isch&amp;q=Luxury+Cars&amp;chips=q:luxury+cars,g_1:bentley&amp;sa=X&amp;ved=0ahUKEwja7ZOrt4GGAxXhzDgGHVwaC_UQ4lYIEygI\">bentley</a><a class=\"TwVfHd\" href=\"/search?sca_esv=33fda89bc4ea5a26&amp;sca_upv=1&amp;biw=1920&amp;bih=937&amp;ie=UTF-8&amp;tbm=isch&amp;q=Luxury+Cars&amp;chips=q:luxury+cars,g_1:maserati&amp;sa=X&amp;ved=0ahUKEwja7ZOrt4GGAxXhzDgGHVwaC_UQ4lYIFCgJ\">maserati</a></div><div><table class=\"GpQGbf\"><tr><td align=\"center\" class=\"e3goi\"><div class=\"jjVJ4e\"> <div> <div class=\"lIMUZd\"><div><table class=\"RntSmf\"><tr><td><a href=\"/url?q=https://www.autocar.co.uk/car-news/best-cars/top-10-best-super-luxury-cars&amp;sa=U&amp;ved=2ahUKEwja7ZOrt4GGAxXhzDgGHVwaC_UQqoUBegQIBhAB&amp;usg=AOvVaw3__d-2umIrUzJGFiLb4XN1\"><div class=\"kCmkOe\"><img alt=\"\" class=\"DS1iW\" src=\"https://encrypted-tbn0.gstatic.com/images?q=tbn:ANd9GcQa-Cgc6sdj-77-v2_FsW-Hac4jaf1Kyp6p4HL4u6HCkE8eHB4Wnw920yZNB_U&amp;s\"/></div></a></td></tr><tr><td><a href=\"/url?q=https://www.autocar.co.uk/car-news/best-cars/top-10-best-super-luxury-cars&amp;sa=U&amp;ved=2ahUKEwja7ZOrt4GGAxXhzDgGHVwaC_UQr4kDegQIBhAC&amp;usg=AOvVaw2c6nsmKZy5203wI4W9dLNm\"><div class=\"AlD19d\"> <span class=\"qXLe6d x3G5ab\"> <span class=\"fYyStc\">Top 10 best super-luxury...</span> </span> <span class=\"qXLe6d F9iS2e\"> <span class=\"fYyStc\">www.autocar.co.uk</span> </span> </div></a></td></tr></table></div></div> </div> </div></td><td align=\"center\" class=\"e3goi\"><div class=\"jjVJ4e\"> <div> <div class=\"lIMUZd\"><div><table class=\"RntSmf\"><tr><td><a href=\"/url?q=https://www.cars24.com/blog/10-most-expensive-cars-in-the-world/&amp;sa=U&amp;ved=2ahUKEwja7ZOrt4GGAxXhzDgGHVwaC_UQqoUBegQIExAB&amp;usg=AOvVaw2SdQUrkymRIdR2mzpabgmQ\"><div class=\"kCmkOe\"><img alt=\"\" class=\"DS1iW\" src=\"https://encrypted-tbn0.gstatic.com/images?q=tbn:ANd9GcQAXD3wAvE0vQo7RKc49BXt-fNUN3TdYRCsLxS89I6f6IAUuc2cvLW0mCojT94&amp;s\"/></div></a></td></tr><tr><td><a href=\"/url?q=https://www.cars24.com/blog/10-most-expensive-cars-in-the-world/&amp;sa=U&amp;ved=2ahUKEwja7ZOrt4GGAxXhzDgGHVwaC_UQr4kDegQIExAC&amp;usg=AOvVaw1K2JoaMGXwrchvdk0n1HqO\"><div class=\"AlD19d\"> <span class=\"qXLe6d x3G5ab\"> <span class=\"fYyStc\">10 Most Expensive Cars in...</span> </span> <span class=\"qXLe6d F9iS2e\"> <span class=\"fYyStc\">www.cars24.com</span> </span> </div></a></td></tr></table></div></div> </div> </div></td><td align=\"center\" class=\"e3goi\"><div class=\"jjVJ4e\"> <div> <div class=\"lIMUZd\"><div><table class=\"RntSmf\"><tr><td><a href=\"/url?q=https://www.topgear.com/car-news/usa/top-gears-top-20-luxury-cars-us&amp;sa=U&amp;ved=2ahUKEwja7ZOrt4GGAxXhzDgGHVwaC_UQqoUBegQIEhAB&amp;usg=AOvVaw0e4owXaw0V8Vd5qyOKrLS3\"><div class=\"kCmkOe\"><img alt=\"\" class=\"DS1iW\" src=\"https://encrypted-tbn0.gstatic.com/images?q=tbn:ANd9GcQHXhwODFlxNcsQWANqU_NIHe05FrJtmXD3I1i4zSUzc9DC0lPlkB-0zB2zSUY&amp;s\"/></div></a></td></tr><tr><td><a href=\"/url?q=https://www.topgear.com/car-news/usa/top-gears-top-20-luxury-cars-us&amp;sa=U&amp;ved=2ahUKEwja7ZOrt4GGAxXhzDgGHVwaC_UQr4kDegQIEhAC&amp;usg=AOvVaw1wQQp91gHl0AuX3zdQE9od\"><div class=\"AlD19d\"> <span class=\"qXLe6d x3G5ab\"> <span class=\"fYyStc\">Best Luxury Cars in the US...</span> </span> <span class=\"qXLe6d F9iS2e\"> <span class=\"fYyStc\">www.topgear.com</span> </span> </div></a></td></tr></table></div></div> </div> </div></td><td align=\"center\" class=\"e3goi\"><div class=\"jjVJ4e\"> <div> <div class=\"lIMUZd\"><div><table class=\"RntSmf\"><tr><td><a href=\"/url?q=https://www.livemint.com/auto-news/time-to-enjoy-life-why-orders-for-ferraris-other-luxury-cars-are-at-record-high-11622350762503.html&amp;sa=U&amp;ved=2ahUKEwja7ZOrt4GGAxXhzDgGHVwaC_UQqoUBegQIERAB&amp;usg=AOvVaw2rDshhWh_oJBxglNgbCDST\"><div class=\"kCmkOe\"><img alt=\"\" class=\"DS1iW\" src=\"https://encrypted-tbn0.gstatic.com/images?q=tbn:ANd9GcR3ulfglLjYpm7DUn_vRsgjMPuOnbt6ftZ1CDvC0RPr6pt7MgIseGogveNPz_o&amp;s\"/></div></a></td></tr><tr><td><a href=\"/url?q=https://www.livemint.com/auto-news/time-to-enjoy-life-why-orders-for-ferraris-other-luxury-cars-are-at-record-high-11622350762503.html&amp;sa=U&amp;ved=2ahUKEwja7ZOrt4GGAxXhzDgGHVwaC_UQr4kDegQIERAC&amp;usg=AOvVaw2rnpm0j3i73R0D_xHKkY6e\"><div class=\"AlD19d\"> <span class=\"qXLe6d x3G5ab\"> <span class=\"fYyStc\">Time to enjoy life': Why...</span> </span> <span class=\"qXLe6d F9iS2e\"> <span class=\"fYyStc\">www.livemint.com</span> </span> </div></a></td></tr></table></div></div> </div> </div></td></tr><tr><td align=\"center\" class=\"e3goi\"><div class=\"jjVJ4e\"> <div> <div class=\"lIMUZd\"><div><table class=\"RntSmf\"><tr><td><a href=\"/url?q=https://www.spinny.com/blog/index.php/tips-for-buying-used-luxury-car-india/&amp;sa=U&amp;ved=2ahUKEwja7ZOrt4GGAxXhzDgGHVwaC_UQqoUBegQIDhAB&amp;usg=AOvVaw27GiO4Ufr5BTE8C4RrcdGk\"><div class=\"kCmkOe\"><img alt=\"\" class=\"DS1iW\" src=\"https://encrypted-tbn0.gstatic.com/images?q=tbn:ANd9GcQ5SXvxSfLShB5Wv9LuXK-MWWwrWxZunUyPwlzyhlXskXcgcVw_GevsG0foeQ&amp;s\"/></div></a></td></tr><tr><td><a href=\"/url?q=https://www.spinny.com/blog/index.php/tips-for-buying-used-luxury-car-india/&amp;sa=U&amp;ved=2ahUKEwja7ZOrt4GGAxXhzDgGHVwaC_UQr4kDegQIDhAC&amp;usg=AOvVaw2WYNM7zfB6k4WOMci2mMQN\"><div class=\"AlD19d\"> <span class=\"qXLe6d x3G5ab\"> <span class=\"fYyStc\">Essential Tips for Buying a...</span> </span> <span class=\"qXLe6d F9iS2e\"> <span class=\"fYyStc\">www.spinny.com</span> </span> </div></a></td></tr></table></div></div> </div> </div></td><td align=\"center\" class=\"e3goi\"><div class=\"jjVJ4e\"> <div> <div class=\"lIMUZd\"><div><table class=\"RntSmf\"><tr><td><a href=\"/url?q=https://m.youtube.com/watch%3Fv%3Dj3iALi2XuBY&amp;sa=U&amp;ved=2ahUKEwja7ZOrt4GGAxXhzDgGHVwaC_UQqoUBegQIDBAB&amp;usg=AOvVaw1mJqhWozvyLFUcbO8IhpLb\"><div class=\"kCmkOe\"><img alt=\"\" class=\"DS1iW\" src=\"https://encrypted-tbn0.gstatic.com/images?q=tbn:ANd9GcR4iEZBpkvatpTw9ax6xeR0Z-K5cdusUyUUz2m4IMA5asjCUSBmo4IjkHZ6zQ&amp;s\"/></div></a></td></tr><tr><td><a href=\"/url?q=https://m.youtube.com/watch%3Fv%3Dj3iALi2XuBY&amp;sa=U&amp;ved=2ahUKEwja7ZOrt4GGAxXhzDgGHVwaC_UQr4kDegQIDBAC&amp;usg=AOvVaw3twCBFVd2UZM0_4IqwdLfz\"><div class=\"AlD19d\"> <span class=\"qXLe6d x3G5ab\"> <span class=\"fYyStc\">10 Most Luxurious Cars In...</span> </span> <span class=\"qXLe6d F9iS2e\"> <span class=\"fYyStc\">m.youtube.com</span> </span> </div></a></td></tr></table></div></div> </div> </div></td><td align=\"center\" class=\"e3goi\"><div class=\"jjVJ4e\"> <div> <div class=\"lIMUZd\"><div><table class=\"RntSmf\"><tr><td><a href=\"/url?q=https://www.roadandtrack.com/car-culture/buying-maintenance/g6830/best-luxury-cars-brands/&amp;sa=U&amp;ved=2ahUKEwja7ZOrt4GGAxXhzDgGHVwaC_UQqoUBegQIDRAB&amp;usg=AOvVaw3mbH6lxWgn27oekeZRd2i6\"><div class=\"kCmkOe\"><img alt=\"\" class=\"DS1iW\" src=\"https://encrypted-tbn0.gstatic.com/images?q=tbn:ANd9GcQF9xtJcdy8ZS_bR1eJunsOlBojZexNn4VQwNPP8dpIEfQYsIRR4e7JoncSfdk&amp;s\"/></div></a></td></tr><tr><td><a href=\"/url?q=https://www.roadandtrack.com/car-culture/buying-maintenance/g6830/best-luxury-cars-brands/&amp;sa=U&amp;ved=2ahUKEwja7ZOrt4GGAxXhzDgGHVwaC_UQr4kDegQIDRAC&amp;usg=AOvVaw0Hn8fZOyzVqxJTBSpUsM7B\"><div class=\"AlD19d\"> <span class=\"qXLe6d x3G5ab\"> <span class=\"fYyStc\">The Most Luxurious Cars You...</span> </span> <span class=\"qXLe6d F9iS2e\"> <span class=\"fYyStc\">www.roadandtrack.com</span> </span> </div></a></td></tr></table></div></div> </div> </div></td><td align=\"center\" class=\"e3goi\"><div class=\"jjVJ4e\"> <div> <div class=\"lIMUZd\"><div><table class=\"RntSmf\"><tr><td><a href=\"/url?q=https://www.forbesindia.com/article/explainers/most-expensive-cars/89857/1&amp;sa=U&amp;ved=2ahUKEwja7ZOrt4GGAxXhzDgGHVwaC_UQqoUBegQICxAB&amp;usg=AOvVaw3jZSUr-F83kU4Zedh-rZZE\"><div class=\"kCmkOe\"><img alt=\"\" class=\"DS1iW\" src=\"https://encrypted-tbn0.gstatic.com/images?q=tbn:ANd9GcQKPPSELER87oOvnWaDq0hSa8oKPDDTW9o_3wDG2r64H-nvH4Revmxy4fUT7w&amp;s\"/></div></a></td></tr><tr><td><a href=\"/url?q=https://www.forbesindia.com/article/explainers/most-expensive-cars/89857/1&amp;sa=U&amp;ved=2ahUKEwja7ZOrt4GGAxXhzDgGHVwaC_UQr4kDegQICxAC&amp;usg=AOvVaw02BFtrtvciH08F2YkHRA_X\"><div class=\"AlD19d\"> <span class=\"qXLe6d x3G5ab\"> <span class=\"fYyStc\">Which Is The Costliest Car...</span> </span> <span class=\"qXLe6d F9iS2e\"> <span class=\"fYyStc\">www.forbesindia.com</span> </span> </div></a></td></tr></table></div></div> </div> </div></td></tr><tr><td align=\"center\" class=\"e3goi\"><div class=\"jjVJ4e\"> <div> <div class=\"lIMUZd\"><div><table class=\"RntSmf\"><tr><td><a href=\"/url?q=https://www.motor1.com/features/308149/most-expensive-new-cars-ever/&amp;sa=U&amp;ved=2ahUKEwja7ZOrt4GGAxXhzDgGHVwaC_UQqoUBegQICRAB&amp;usg=AOvVaw2xNRrEdbds8U0L9iHQvXdQ\"><div class=\"kCmkOe\"><img alt=\"\" class=\"DS1iW\" src=\"https://encrypted-tbn0.gstatic.com/images?q=tbn:ANd9GcT1oB_cagUufI0heG9kb1lP-R73-JEA07Dtq3XjFjRXAEq3Fot4l9ssQABOkA&amp;s\"/></div></a></td></tr><tr><td><a href=\"/url?q=https://www.motor1.com/features/308149/most-expensive-new-cars-ever/&amp;sa=U&amp;ved=2ahUKEwja7ZOrt4GGAxXhzDgGHVwaC_UQr4kDegQICRAC&amp;usg=AOvVaw2J_yarYxmdVGb4sJUc8I_O\"><div class=\"AlD19d\"> <span class=\"qXLe6d x3G5ab\"> <span class=\"fYyStc\">Most Expensive Cars In The...</span> </span> <span class=\"qXLe6d F9iS2e\"> <span class=\"fYyStc\">www.motor1.com</span> </span> </div></a></td></tr></table></div></div> </div> </div></td><td align=\"center\" class=\"e3goi\"><div class=\"jjVJ4e\"> <div> <div class=\"lIMUZd\"><div><table class=\"RntSmf\"><tr><td><a href=\"/url?q=https://timesofindia.indiatimes.com/auto/web-stories/costliest-luxury-cars-to-buy-in-india-rolls-royce-black-badge-ghost-to-maybach-s-class/photostory/98277057.cms&amp;sa=U&amp;ved=2ahUKEwja7ZOrt4GGAxXhzDgGHVwaC_UQqoUBegQIChAB&amp;usg=AOvVaw36B6GJpI-JrMrrqm_-E_MA\"><div class=\"kCmkOe\"><img alt=\"\" class=\"DS1iW\" src=\"https://encrypted-tbn0.gstatic.com/images?q=tbn:ANd9GcRxVprCBh3ACEVbQZUfZSKQYqAAY4ZRwoDq7IsORoxuvCS7aRpsHuko0x4gclg&amp;s\"/></div></a></td></tr><tr><td><a href=\"/url?q=https://timesofindia.indiatimes.com/auto/web-stories/costliest-luxury-cars-to-buy-in-india-rolls-royce-black-badge-ghost-to-maybach-s-class/photostory/98277057.cms&amp;sa=U&amp;ved=2ahUKEwja7ZOrt4GGAxXhzDgGHVwaC_UQr4kDegQIChAC&amp;usg=AOvVaw0M581EhcpAZP492WTKSEy7\"><div class=\"AlD19d\"> <span class=\"qXLe6d x3G5ab\"> <span class=\"fYyStc\">Costliest luxury cars to...</span> </span> <span class=\"qXLe6d F9iS2e\"> <span class=\"fYyStc\">timesofindia.indiatimes.com...</span> </span> </div></a></td></tr></table></div></div> </div> </div></td><td align=\"center\" class=\"e3goi\"><div class=\"jjVJ4e\"> <div> <div class=\"lIMUZd\"><div><table class=\"RntSmf\"><tr><td><a href=\"/url?q=https://www.dailysabah.com/business/automotive/luxury-cars-hit-record-sales-as-demand-rebounds-from-pandemic&amp;sa=U&amp;ved=2ahUKEwja7ZOrt4GGAxXhzDgGHVwaC_UQqoUBegQIDxAB&amp;usg=AOvVaw0H3BAXPsNKKpCrH8Acstar\"><div class=\"kCmkOe\"><img alt=\"\" class=\"DS1iW\" src=\"https://encrypted-tbn0.gstatic.com/images?q=tbn:ANd9GcRBo4wB8cH-aWwSUC57JN5Nl2VJw8hBKXKxNpX2U5PIS28UwkgxmII1H7ICag&amp;s\"/></div></a></td></tr><tr><td><a href=\"/url?q=https://www.dailysabah.com/business/automotive/luxury-cars-hit-record-sales-as-demand-rebounds-from-pandemic&amp;sa=U&amp;ved=2ahUKEwja7ZOrt4GGAxXhzDgGHVwaC_UQr4kDegQIDxAC&amp;usg=AOvVaw2ahlUJJro3QUFKfCP8sYfz\"><div class=\"AlD19d\"> <span class=\"qXLe6d x3G5ab\"> <span class=\"fYyStc\">Luxury cars hit record...</span> </span> <span class=\"qXLe6d F9iS2e\"> <span class=\"fYyStc\">www.dailysabah.com</span> </span> </div></a></td></tr></table></div></div> </div> </div></td><td align=\"center\" class=\"e3goi\"><div class=\"jjVJ4e\"> <div> <div class=\"lIMUZd\"><div><table class=\"RntSmf\"><tr><td><a href=\"/url?q=https://www.entrepreneur.com/en-in/news-and-trends/luxury-cars-need-for-speed-in-tier-ii-tier-iii-cities/453497&amp;sa=U&amp;ved=2ahUKEwja7ZOrt4GGAxXhzDgGHVwaC_UQqoUBegQIEBAB&amp;usg=AOvVaw3OObefnlAbv3AMZxheLxsY\"><div class=\"kCmkOe\"><img alt=\"\" class=\"DS1iW\" src=\"https://encrypted-tbn0.gstatic.com/images?q=tbn:ANd9GcQrVQF1lQZUbT0RFQc5usX2mrng4N35d2uyfmu8Z_d68W80JzHzpJxaoDYCJA&amp;s\"/></div></a></td></tr><tr><td><a href=\"/url?q=https://www.entrepreneur.com/en-in/news-and-trends/luxury-cars-need-for-speed-in-tier-ii-tier-iii-cities/453497&amp;sa=U&amp;ved=2ahUKEwja7ZOrt4GGAxXhzDgGHVwaC_UQr4kDegQIEBAC&amp;usg=AOvVaw1rP0K2NbgVRhLVQCZfgTgb\"><div class=\"AlD19d\"> <span class=\"qXLe6d x3G5ab\"> <span class=\"fYyStc\">Luxury Cars: Need For Speed...</span> </span> <span class=\"qXLe6d F9iS2e\"> <span class=\"fYyStc\">www.entrepreneur.com</span> </span> </div></a></td></tr></table></div></div> </div> </div></td></tr><tr><td align=\"center\" class=\"e3goi\"><div class=\"jjVJ4e\"> <div> <div class=\"lIMUZd\"><div><table class=\"RntSmf\"><tr><td><a href=\"/url?q=https://www.motor1.com/features/308149/most-expensive-new-cars-ever/&amp;sa=U&amp;ved=2ahUKEwja7ZOrt4GGAxXhzDgGHVwaC_UQqoUBegQIABAB&amp;usg=AOvVaw3XYnFG7T7f-QARD60QMdAt\"><div class=\"kCmkOe\"><img alt=\"\" class=\"DS1iW\" src=\"https://encrypted-tbn0.gstatic.com/images?q=tbn:ANd9GcRg1XGcgVfacfdAxFId8pI0QIbYtvyipHKTiDYEosAafb7en3EeAyXgFl0E738&amp;s\"/></div></a></td></tr><tr><td><a href=\"/url?q=https://www.motor1.com/features/308149/most-expensive-new-cars-ever/&amp;sa=U&amp;ved=2ahUKEwja7ZOrt4GGAxXhzDgGHVwaC_UQr4kDegQIABAC&amp;usg=AOvVaw01m3FlLZbeQ3pYnIxgBQ3N\"><div class=\"AlD19d\"> <span class=\"qXLe6d x3G5ab\"> <span class=\"fYyStc\">Most Expensive Cars In The...</span> </span> <span class=\"qXLe6d F9iS2e\"> <span class=\"fYyStc\">www.motor1.com</span> </span> </div></a></td></tr></table></div></div> </div> </div></td><td align=\"center\" class=\"e3goi\"><div class=\"jjVJ4e\"> <div> <div class=\"lIMUZd\"><div><table class=\"RntSmf\"><tr><td><a href=\"/url?q=https://robbreport.com/motors/cars/lists/most-expensive-cars-1234885095/&amp;sa=U&amp;ved=2ahUKEwja7ZOrt4GGAxXhzDgGHVwaC_UQqoUBegQIBBAB&amp;usg=AOvVaw0nAYn4tJLijg2eJ2JitWtI\"><div class=\"kCmkOe\"><img alt=\"\" class=\"DS1iW\" src=\"https://encrypted-tbn0.gstatic.com/images?q=tbn:ANd9GcQO52P9mc_2RG5oeSXDMWHf9QlCae1UL47y4WdS74YfudpCLupZ5IeUuIQ_PAE&amp;s\"/></div></a></td></tr><tr><td><a href=\"/url?q=https://robbreport.com/motors/cars/lists/most-expensive-cars-1234885095/&amp;sa=U&amp;ved=2ahUKEwja7ZOrt4GGAxXhzDgGHVwaC_UQr4kDegQIBBAC&amp;usg=AOvVaw3L7T043lu_Mgm1GlXhj_dl\"><div class=\"AlD19d\"> <span class=\"qXLe6d x3G5ab\"> <span class=\"fYyStc\">The 50 Most Expensive Cars...</span> </span> <span class=\"qXLe6d F9iS2e\"> <span class=\"fYyStc\">robbreport.com</span> </span> </div></a></td></tr></table></div></div> </div> </div></td><td align=\"center\" class=\"e3goi\"><div class=\"jjVJ4e\"> <div> <div class=\"lIMUZd\"><div><table class=\"RntSmf\"><tr><td><a href=\"/url?q=https://www.carwale.com/new/best-luxury-cars/&amp;sa=U&amp;ved=2ahUKEwja7ZOrt4GGAxXhzDgGHVwaC_UQqoUBegQIBxAB&amp;usg=AOvVaw1ji9BWMS9CaLb-Nxzw1VQS\"><div class=\"kCmkOe\"><img alt=\"\" class=\"DS1iW\" src=\"https://encrypted-tbn0.gstatic.com/images?q=tbn:ANd9GcQSZ656sRP6yWMCb4wU0rNE7o_6ml2B6davE6CyYPZUFtmcxresXXhsqg6Uuw&amp;s\"/></div></a></td></tr><tr><td><a href=\"/url?q=https://www.carwale.com/new/best-luxury-cars/&amp;sa=U&amp;ved=2ahUKEwja7ZOrt4GGAxXhzDgGHVwaC_UQr4kDegQIBxAC&amp;usg=AOvVaw0JuK6c-L9ncdxfAy4flMBE\"><div class=\"AlD19d\"> <span class=\"qXLe6d x3G5ab\"> <span class=\"fYyStc\">Best Luxury Cars in India:...</span> </span> <span class=\"qXLe6d F9iS2e\"> <span class=\"fYyStc\">www.carwale.com</span> </span> </div></a></td></tr></table></div></div> </div> </div></td><td align=\"center\" class=\"e3goi\"><div class=\"jjVJ4e\"> <div> <div class=\"lIMUZd\"><div><table class=\"RntSmf\"><tr><td><a href=\"/url?q=https://timesofindia.indiatimes.com/auto/web-stories/most-affordable-luxury-cars-you-can-buy-in-india-in-2023-bmw-audi-mercedes-benz-volvo-and-more/photostory/98442599.cms&amp;sa=U&amp;ved=2ahUKEwja7ZOrt4GGAxXhzDgGHVwaC_UQqoUBegQIARAB&amp;usg=AOvVaw21zr5PQ9wMdTbxesO_Zthb\"><div class=\"kCmkOe\"><img alt=\"\" class=\"DS1iW\" src=\"https://encrypted-tbn0.gstatic.com/images?q=tbn:ANd9GcQwV4znQIeLlig_tALF5d_LrmwBhfSmJ4PiLfHwppIpgg0yLL--qSVns4tZYw&amp;s\"/></div></a></td></tr><tr><td><a href=\"/url?q=https://timesofindia.indiatimes.com/auto/web-stories/most-affordable-luxury-cars-you-can-buy-in-india-in-2023-bmw-audi-mercedes-benz-volvo-and-more/photostory/98442599.cms&amp;sa=U&amp;ved=2ahUKEwja7ZOrt4GGAxXhzDgGHVwaC_UQr4kDegQIARAC&amp;usg=AOvVaw1gWKImgbN8w4sj1r3qcIvQ\"><div class=\"AlD19d\"> <span class=\"qXLe6d x3G5ab\"> <span class=\"fYyStc\">Most affordable luxury cars...</span> </span> <span class=\"qXLe6d F9iS2e\"> <span class=\"fYyStc\">timesofindia.indiatimes.com...</span> </span> </div></a></td></tr></table></div></div> </div> </div></td></tr><tr><td align=\"center\" class=\"e3goi\"><div class=\"jjVJ4e\"> <div> <div class=\"lIMUZd\"><div><table class=\"RntSmf\"><tr><td><a href=\"/url?q=https://www.deccanherald.com/auto/the-7-most-expensive-cars-in-the-world-in-2023-2649555&amp;sa=U&amp;ved=2ahUKEwja7ZOrt4GGAxXhzDgGHVwaC_UQqoUBegQIBRAB&amp;usg=AOvVaw0R6WSnTKD7gnxJza21UxPN\"><div class=\"kCmkOe\"><img alt=\"\" class=\"DS1iW\" src=\"https://encrypted-tbn0.gstatic.com/images?q=tbn:ANd9GcSl4-YHVA3sTJ6bOxlqL2IxnbZLeCmLAbPq7v4N6zbPAISaxamGSA4APXg9KQ&amp;s\"/></div></a></td></tr><tr><td><a href=\"/url?q=https://www.deccanherald.com/auto/the-7-most-expensive-cars-in-the-world-in-2023-2649555&amp;sa=U&amp;ved=2ahUKEwja7ZOrt4GGAxXhzDgGHVwaC_UQr4kDegQIBRAC&amp;usg=AOvVaw1JcVpcgWg8cHOR4yQ7JMp0\"><div class=\"AlD19d\"> <span class=\"qXLe6d x3G5ab\"> <span class=\"fYyStc\">Automobile news: The 7 most...</span> </span> <span class=\"qXLe6d F9iS2e\"> <span class=\"fYyStc\">www.deccanherald.com</span> </span> </div></a></td></tr></table></div></div> </div> </div></td><td align=\"center\" class=\"e3goi\"><div class=\"jjVJ4e\"> <div> <div class=\"lIMUZd\"><div><table class=\"RntSmf\"><tr><td><a href=\"/url?q=https://theprint.in/opinion/dashboard/indias-appetite-for-luxury-cars-is-entering-the-fast-lane-mercedes-benz-audi-bmw-gearing-up/1304087/&amp;sa=U&amp;ved=2ahUKEwja7ZOrt4GGAxXhzDgGHVwaC_UQqoUBegQIAhAB&amp;usg=AOvVaw1fqbP_iF5LwSMaA_BRFCfr\"><div class=\"kCmkOe\"><img alt=\"\" class=\"DS1iW\" src=\"https://encrypted-tbn0.gstatic.com/images?q=tbn:ANd9GcQcZVaP1LJ9TA9yyUXvUe8UiiFd3mqiJ2RjBZ7fpHJnspgBMYlGqfRTW4ma4g&amp;s\"/></div></a></td></tr><tr><td><a href=\"/url?q=https://theprint.in/opinion/dashboard/indias-appetite-for-luxury-cars-is-entering-the-fast-lane-mercedes-benz-audi-bmw-gearing-up/1304087/&amp;sa=U&amp;ved=2ahUKEwja7ZOrt4GGAxXhzDgGHVwaC_UQr4kDegQIAhAC&amp;usg=AOvVaw2I1vWtkOhFjA2NDTFMc2kX\"><div class=\"AlD19d\"> <span class=\"qXLe6d x3G5ab\"> <span class=\"fYyStc\">India's appetite for luxury...</span> </span> <span class=\"qXLe6d F9iS2e\"> <span class=\"fYyStc\">theprint.in</span> </span> </div></a></td></tr></table></div></div> </div> </div></td><td align=\"center\" class=\"e3goi\"><div class=\"jjVJ4e\"> <div> <div class=\"lIMUZd\"><div><table class=\"RntSmf\"><tr><td><a href=\"/url?q=https://www.carwale.com/skoda-cars/octavia/expert-reviews/top-six-luxury-cars-we-have-tested-in-2022-so-far/&amp;sa=U&amp;ved=2ahUKEwja7ZOrt4GGAxXhzDgGHVwaC_UQqoUBegQIAxAB&amp;usg=AOvVaw2GjS8KgIiLEfBkbjL1CVEg\"><div class=\"kCmkOe\"><img alt=\"\" class=\"DS1iW\" src=\"https://encrypted-tbn0.gstatic.com/images?q=tbn:ANd9GcQTGXDpmlWvZr7MbBKTTULvPPNxUfxoakVQxGQlIXtuyKgrUu4g0ht75ZdgUEY&amp;s\"/></div></a></td></tr><tr><td><a href=\"/url?q=https://www.carwale.com/skoda-cars/octavia/expert-reviews/top-six-luxury-cars-we-have-tested-in-2022-so-far/&amp;sa=U&amp;ved=2ahUKEwja7ZOrt4GGAxXhzDgGHVwaC_UQr4kDegQIAxAC&amp;usg=AOvVaw1BRzcSuT3gn6j5rPCVolY9\"><div class=\"AlD19d\"> <span class=\"qXLe6d x3G5ab\"> <span class=\"fYyStc\">Top six luxury cars we have...</span> </span> <span class=\"qXLe6d F9iS2e\"> <span class=\"fYyStc\">www.carwale.com</span> </span> </div></a></td></tr></table></div></div> </div> </div></td><td align=\"center\" class=\"e3goi\"><div class=\"jjVJ4e\"> <div> <div class=\"lIMUZd\"><div><table class=\"RntSmf\"><tr><td><a href=\"/url?q=https://news.dupontregistry.com/news/top-25-best-luxury-cars/&amp;sa=U&amp;ved=2ahUKEwja7ZOrt4GGAxXhzDgGHVwaC_UQqoUBegQICBAB&amp;usg=AOvVaw14-nHY37BubvRW3q5k9kPg\"><div class=\"kCmkOe\"><img alt=\"\" class=\"DS1iW\" src=\"https://encrypted-tbn0.gstatic.com/images?q=tbn:ANd9GcQDxIJS-RxEW89opt6wP9L3hf98LOXCmnq7nhpNEa1vQnmM30updaG1U1QtMw&amp;s\"/></div></a></td></tr><tr><td><a href=\"/url?q=https://news.dupontregistry.com/news/top-25-best-luxury-cars/&amp;sa=U&amp;ved=2ahUKEwja7ZOrt4GGAxXhzDgGHVwaC_UQr4kDegQICBAC&amp;usg=AOvVaw0hCPz-8iAyUXxphDjVID-J\"><div class=\"AlD19d\"> <span class=\"qXLe6d x3G5ab\"> <span class=\"fYyStc\">Top 25 Best Luxury Cars of...</span> </span> <span class=\"qXLe6d F9iS2e\"> <span class=\"fYyStc\">news.dupontregistry.com</span> </span> </div></a></td></tr></table></div></div> </div> </div></td></tr></table></div><table class=\"uZgmoc\"><tbody><td><a class=\"frGj1b\" href=\"/search?q=Luxury+Cars&amp;sca_esv=33fda89bc4ea5a26&amp;sca_upv=1&amp;biw=1920&amp;bih=937&amp;ie=UTF-8&amp;tbm=isch&amp;ei=OTU9ZprtH-GZ4-EP3LSsqA8&amp;start=20&amp;sa=N\">Next &gt;</a></td></tbody></table><br/><div class=\"TuS8Ad\" data-ved=\"0ahUKEwja7ZOrt4GGAxXhzDgGHVwaC_UQpyoIUg\"><style>.VYM29{font-weight:bold}</style><div align=\"center\" class=\"HddGcc\"><span class=\"VYM29\">Mayur Vihar, Delhi</span><span> - </span><span>From your IP address</span><span> - </span><a href=\"/url?q=https://support.google.com/websearch%3Fp%3Dws_settings_location%26hl%3Den-IN&amp;opi=89978449&amp;sa=U&amp;ved=0ahUKEwja7ZOrt4GGAxXhzDgGHVwaC_UQty4IUw&amp;usg=AOvVaw27yOO0QmpKeyH5b2daaV1z\">Learn more</a></div><div align=\"center\"><a class=\"rEM8G\" href=\"/url?q=https://accounts.google.com/ServiceLogin%3Fcontinue%3Dhttps://www.google.com/search%253Fq%253DLuxury%252BCars%2526sxsrf%253DAJOqlzUuff1RXi2mm8I_OqOwT9VjfIDL7w:1676996143273%2526source%253Dlnms%2526tbm%253Disch%2526sa%253DX%2526ved%253D2ahUKEwiq-qK7gaf9AhXUgVYBHYReAfYQ_AUoA3oECAEQBQ%2526biw%253D1920%2526bih%253D937%2526dpr%253D1%26hl%3Den&amp;opi=89978449&amp;sa=U&amp;ved=0ahUKEwja7ZOrt4GGAxXhzDgGHVwaC_UQxs8CCFQ&amp;usg=AOvVaw03ya0uLi71lJDfjFsui-co\">Sign in</a></div><div><table class=\"bookcf\"><tbody class=\"InWNIe\"><tr><td><a class=\"rEM8G\" href=\"https://www.google.com/preferences?hl=en&amp;sa=X&amp;ved=0ahUKEwja7ZOrt4GGAxXhzDgGHVwaC_UQv5YECFU\">Settings</a></td><td><a class=\"rEM8G\" href=\"https://www.google.com/intl/en_in/policies/privacy/\">Privacy</a></td><td><a class=\"rEM8G\" href=\"https://www.google.com/intl/en_in/policies/terms/\">Terms</a></td></tr></tbody></table></div></div><div> </div></body></html>"
      ]
     },
     "execution_count": 7,
     "metadata": {},
     "output_type": "execute_result"
    }
   ],
   "source": [
    "soup"
   ]
  },
  {
   "cell_type": "code",
   "execution_count": 8,
   "id": "fca41c26",
   "metadata": {},
   "outputs": [],
   "source": [
    "image_tags=soup.find_all(\"img\")"
   ]
  },
  {
   "cell_type": "code",
   "execution_count": 9,
   "id": "7d8de647",
   "metadata": {},
   "outputs": [],
   "source": [
    "del image_tags[0]"
   ]
  },
  {
   "cell_type": "code",
   "execution_count": 10,
   "id": "a6a6af8a",
   "metadata": {},
   "outputs": [
    {
     "data": {
      "text/plain": [
       "[<img alt=\"\" class=\"DS1iW\" src=\"https://encrypted-tbn0.gstatic.com/images?q=tbn:ANd9GcQa-Cgc6sdj-77-v2_FsW-Hac4jaf1Kyp6p4HL4u6HCkE8eHB4Wnw920yZNB_U&amp;s\"/>,\n",
       " <img alt=\"\" class=\"DS1iW\" src=\"https://encrypted-tbn0.gstatic.com/images?q=tbn:ANd9GcQAXD3wAvE0vQo7RKc49BXt-fNUN3TdYRCsLxS89I6f6IAUuc2cvLW0mCojT94&amp;s\"/>,\n",
       " <img alt=\"\" class=\"DS1iW\" src=\"https://encrypted-tbn0.gstatic.com/images?q=tbn:ANd9GcQHXhwODFlxNcsQWANqU_NIHe05FrJtmXD3I1i4zSUzc9DC0lPlkB-0zB2zSUY&amp;s\"/>,\n",
       " <img alt=\"\" class=\"DS1iW\" src=\"https://encrypted-tbn0.gstatic.com/images?q=tbn:ANd9GcR3ulfglLjYpm7DUn_vRsgjMPuOnbt6ftZ1CDvC0RPr6pt7MgIseGogveNPz_o&amp;s\"/>,\n",
       " <img alt=\"\" class=\"DS1iW\" src=\"https://encrypted-tbn0.gstatic.com/images?q=tbn:ANd9GcQ5SXvxSfLShB5Wv9LuXK-MWWwrWxZunUyPwlzyhlXskXcgcVw_GevsG0foeQ&amp;s\"/>,\n",
       " <img alt=\"\" class=\"DS1iW\" src=\"https://encrypted-tbn0.gstatic.com/images?q=tbn:ANd9GcR4iEZBpkvatpTw9ax6xeR0Z-K5cdusUyUUz2m4IMA5asjCUSBmo4IjkHZ6zQ&amp;s\"/>,\n",
       " <img alt=\"\" class=\"DS1iW\" src=\"https://encrypted-tbn0.gstatic.com/images?q=tbn:ANd9GcQF9xtJcdy8ZS_bR1eJunsOlBojZexNn4VQwNPP8dpIEfQYsIRR4e7JoncSfdk&amp;s\"/>,\n",
       " <img alt=\"\" class=\"DS1iW\" src=\"https://encrypted-tbn0.gstatic.com/images?q=tbn:ANd9GcQKPPSELER87oOvnWaDq0hSa8oKPDDTW9o_3wDG2r64H-nvH4Revmxy4fUT7w&amp;s\"/>,\n",
       " <img alt=\"\" class=\"DS1iW\" src=\"https://encrypted-tbn0.gstatic.com/images?q=tbn:ANd9GcT1oB_cagUufI0heG9kb1lP-R73-JEA07Dtq3XjFjRXAEq3Fot4l9ssQABOkA&amp;s\"/>,\n",
       " <img alt=\"\" class=\"DS1iW\" src=\"https://encrypted-tbn0.gstatic.com/images?q=tbn:ANd9GcRxVprCBh3ACEVbQZUfZSKQYqAAY4ZRwoDq7IsORoxuvCS7aRpsHuko0x4gclg&amp;s\"/>,\n",
       " <img alt=\"\" class=\"DS1iW\" src=\"https://encrypted-tbn0.gstatic.com/images?q=tbn:ANd9GcRBo4wB8cH-aWwSUC57JN5Nl2VJw8hBKXKxNpX2U5PIS28UwkgxmII1H7ICag&amp;s\"/>,\n",
       " <img alt=\"\" class=\"DS1iW\" src=\"https://encrypted-tbn0.gstatic.com/images?q=tbn:ANd9GcQrVQF1lQZUbT0RFQc5usX2mrng4N35d2uyfmu8Z_d68W80JzHzpJxaoDYCJA&amp;s\"/>,\n",
       " <img alt=\"\" class=\"DS1iW\" src=\"https://encrypted-tbn0.gstatic.com/images?q=tbn:ANd9GcRg1XGcgVfacfdAxFId8pI0QIbYtvyipHKTiDYEosAafb7en3EeAyXgFl0E738&amp;s\"/>,\n",
       " <img alt=\"\" class=\"DS1iW\" src=\"https://encrypted-tbn0.gstatic.com/images?q=tbn:ANd9GcQO52P9mc_2RG5oeSXDMWHf9QlCae1UL47y4WdS74YfudpCLupZ5IeUuIQ_PAE&amp;s\"/>,\n",
       " <img alt=\"\" class=\"DS1iW\" src=\"https://encrypted-tbn0.gstatic.com/images?q=tbn:ANd9GcQSZ656sRP6yWMCb4wU0rNE7o_6ml2B6davE6CyYPZUFtmcxresXXhsqg6Uuw&amp;s\"/>,\n",
       " <img alt=\"\" class=\"DS1iW\" src=\"https://encrypted-tbn0.gstatic.com/images?q=tbn:ANd9GcQwV4znQIeLlig_tALF5d_LrmwBhfSmJ4PiLfHwppIpgg0yLL--qSVns4tZYw&amp;s\"/>,\n",
       " <img alt=\"\" class=\"DS1iW\" src=\"https://encrypted-tbn0.gstatic.com/images?q=tbn:ANd9GcSl4-YHVA3sTJ6bOxlqL2IxnbZLeCmLAbPq7v4N6zbPAISaxamGSA4APXg9KQ&amp;s\"/>,\n",
       " <img alt=\"\" class=\"DS1iW\" src=\"https://encrypted-tbn0.gstatic.com/images?q=tbn:ANd9GcQcZVaP1LJ9TA9yyUXvUe8UiiFd3mqiJ2RjBZ7fpHJnspgBMYlGqfRTW4ma4g&amp;s\"/>,\n",
       " <img alt=\"\" class=\"DS1iW\" src=\"https://encrypted-tbn0.gstatic.com/images?q=tbn:ANd9GcQTGXDpmlWvZr7MbBKTTULvPPNxUfxoakVQxGQlIXtuyKgrUu4g0ht75ZdgUEY&amp;s\"/>,\n",
       " <img alt=\"\" class=\"DS1iW\" src=\"https://encrypted-tbn0.gstatic.com/images?q=tbn:ANd9GcQDxIJS-RxEW89opt6wP9L3hf98LOXCmnq7nhpNEa1vQnmM30updaG1U1QtMw&amp;s\"/>]"
      ]
     },
     "execution_count": 10,
     "metadata": {},
     "output_type": "execute_result"
    }
   ],
   "source": [
    "image_tags"
   ]
  },
  {
   "cell_type": "code",
   "execution_count": 11,
   "id": "49731f4d",
   "metadata": {},
   "outputs": [
    {
     "data": {
      "text/plain": [
       "20"
      ]
     },
     "execution_count": 11,
     "metadata": {},
     "output_type": "execute_result"
    }
   ],
   "source": [
    "len(image_tags)"
   ]
  },
  {
   "cell_type": "code",
   "execution_count": 12,
   "id": "31fea1a9",
   "metadata": {},
   "outputs": [
    {
     "data": {
      "text/plain": [
       "b'\\xff\\xd8\\xff\\xe0\\x00\\x10JFIF\\x00\\x01\\x01\\x00\\x00\\x01\\x00\\x01\\x00\\x00\\xff\\xdb\\x00\\x84\\x00\\t\\x06\\x07\\x08\\x07\\x06\\t\\x08\\x07\\x08\\n\\n\\t\\x0b\\r\\x16\\x0f\\r\\x0c\\x0c\\r\\x1b\\x14\\x15\\x10\\x16 \\x1d\"\" \\x1d\\x1f\\x1f$(4,$&1\\'\\x1f\\x1f-=-157:::#+?D?8C49:7\\x01\\n\\n\\n\\r\\x0c\\r\\x1a\\x0f\\x0f\\x1a7%\\x1f%77777777777777777777777777777777777777777777777777\\xff\\xc0\\x00\\x11\\x08\\x00u\\x00\\xa2\\x03\\x01\"\\x00\\x02\\x11\\x01\\x03\\x11\\x01\\xff\\xc4\\x00\\x1c\\x00\\x00\\x01\\x05\\x01\\x01\\x01\\x00\\x00\\x00\\x00\\x00\\x00\\x00\\x00\\x00\\x00\\x00\\x01\\x02\\x03\\x04\\x05\\x06\\x07\\x08\\xff\\xc4\\x00?\\x10\\x00\\x01\\x03\\x02\\x04\\x01\\x06\\x0c\\x04\\x05\\x05\\x01\\x00\\x00\\x00\\x00\\x01\\x00\\x02\\x03\\x04\\x11\\x05\\x12!1A\\x06\\x13Qaq\\xb1\\x07\\x14\"#23Bbs\\x81\\x91\\xa14Rc\\xc1$DSr\\xd1%5\\x92\\xd2\\xf0\\x15\\xff\\xc4\\x00\\x19\\x01\\x00\\x03\\x01\\x01\\x01\\x00\\x00\\x00\\x00\\x00\\x00\\x00\\x00\\x00\\x00\\x00\\x00\\x01\\x03\\x02\\x04\\x05\\xff\\xc4\\x00&\\x11\\x00\\x02\\x02\\x01\\x03\\x04\\x02\\x02\\x03\\x00\\x00\\x00\\x00\\x00\\x00\\x00\\x00\\x01\\x02\\x11\\x03!2A\\x12#1\\x81Bq3a\"Q\\xc1\\xff\\xda\\x00\\x0c\\x03\\x01\\x00\\x02\\x11\\x03\\x11\\x00?\\x00\\xf0\\xf6\\xb4\\xb9\\xc1\\xad\\x17\\'@\\x11#\\x1d\\x1b\\xcb\\x1e\\xd2\\xd74\\xd8\\x83\\xc1:\\x9c\\xe5\\x9e3\\xd0\\xe1\\xde\\xadcZb\\xb5?\\x10\\xa5z\\xd1\\xaa\\xfe6R\\t\\xf2E$lc\\x9e\\xd2\\x03\\xc5\\xdazBhZ8\\x97\\xe00\\xf3\\xfag\\xbd&\\xe9\\xa4\\n6\\x9b3T\\x91\\xc3$\\x91\\xbd\\xec\\x17k\\x05\\xdd\\xd4\\xa3ZXq\\x1e%\\\\-\\xaeA\\xde\\x89:V\\x10V\\xe8\\xce\\xb5\\xd3\\xe0\\x85\\xf3\\xc9\\x921w$j\\xb7\\x87f\\x8eS6G9\\xac\\xd0\\x81\\xd7\\xb2rn\\x82)6Ss\\x0b\\\\\\xe6\\xbbB\\r\\x8aK.\\x82\\x0c?W\\xccDOs\\xee\\xe0\\xe3\\xad\\xba4Y\\xb5\\xed\\x95\\xd2y\\xe8\\xd8\\xd7\\x00}\\x06\\x81\\xf5E\\x83\\x89B\\xc9\\xd9J\\x9cB\\xdem\\xaenl\\xc7\\xa7d\\xc7\\xf4&*\\x1a\"q\\x8f8\\xb5\\xafd\\xcc\\xa5Y\\x81\\x86H\\xdf\\xd0\\xc6\\x97\\x15\\x08\\xdc\\xa5c\\xa4X\\xa0\\xc3\\xa4\\xac\\xac\\x8a\\x99\\x8ek].\\xc4\\xec\\x11\\xe2\\x12\\x19g\\x8f3o\\x0b\\x88wZ\\xd1\\xe4\\xd3\\xbf\\xd7\\xa8\\x8fj\\x89\\xef\\xb5}\\x7f\\x0b\\xc8\\xee\\xf2\\xa2\\xf2K\\xad\\xc7\\xf4UB=)\\xfe\\xcc\\xb1\\x192\\x06\\\\^\\xf6W\\xf1\\\\%\\xf8uLP\\xbeV\\xbc\\xc9\\x18\\x90\\x10:U&\\xfe$\\x7fx]\\x0f+]z\\xfa\\'Z\\xdf\\xc359d\\x92\\xc9\\x18\\xaelQ\\x82po\\xe8\\xe6\\xa4ac\\xacM\\xd3\\x14\\xd5\\x07\\xcbQ*\\xa2LD!\\t\\x88sM\\x9c\\x0fAW1\\x9dq:\\x83\\xef\\xfe\\xca\\x92\\xb3\\x89\\x1b\\xd6\\xcazm\\xdc\\x93\\xdck\\xe2W\\n\\xfdq\\xcd\\x87\\xd0\\xf54\\x8f\\xba\\xcfWj\\x9d|:\\x93\\xab2\\xcc\\xbc\\xa1\\xc7\\xc3)-\\x1c7\\xf0\\xb5\\xdf\\rg\\xad\\x0c3\\xd4V\\x0f\\xd2FM\\xa3\\xc7\\xb8\\xa3\\x13\\x83d\\x04\\xf0+s\\x08\\x13bU\\x8d\\xc3\\xb0\\xf0\\xe3QTC\\x19m8\\xde\\xe7\\xa8\\x0b\\xdf\\xaa\\xeb\\r\\xba\\xafK\\xf0\\x1f\\x87E&3U\\x88N\\xf6\\xb4\\xc5\\x11\\x8a\\x0c\\xdc^uu\\xbb\\x1b\\xdf\\xda\\x9c\\x97#\\xc7wG_A\\xc8\\x1c#\\x0b\\xc1\\xe3\\x8a\\xa2\\x9cU\\xd4\\x91w\\xcc\\xfd\\xc9\\xe3n\\x80\\xb9<o\\x93X[\\\\\\xec\\x82H\\x00\\xe0\\xd7h\\xbdS\\x1f\\xc4i\\xe8\\xe9\\xdb\\xe3\\x15\\x10\\xb4\\x91\\xa3K\\xc0\\'\\xb1p\\xf8\\xbc\\x94\\xb5L21\\xecx\\xb7\\x02\\xb9\\xaeI\\xdd\\x9e\\x82\\x8c:j\\x8f;\\x97\\x0bm#\\x9b<\\xber\\x9c8\\xf9.\\x1a\\x9f\\xf2\\xb9\\xfa\\xa9\\x03\\xe5q\\r\\r\\x1c\\x07B\\xdd\\xe55T\\xaep\\x84\\xdc\\xc4\\x0f\\x92A\\\\\\xeb\\x9d\\xd2\\x17L<jy\\xd94z\\x16h\\xa5\\x11\\xc5R\\r\\x8ex\\x88\\n\\xb3x\\xa1\\x8e-\\xbe\\xbc\\x08H\\xde)\\xd6\\xa6oJ5y6\\xebc\\x94w\\xfc\\xca*\\x83lB\\xb7\\xe2\\xbb\\xbd/\\'\\xdd\\x97\\x18\\xa5>\\xfa\\x8e\\xac\\xdb\\x10\\xab\\xf8\\xae\\xefPk\\xb8\\xfe\\xbf\\xd2\\xc9\\xf6\\xd7\\xd9U\\xbe\\xbc\\x1fyn\\xf2\\xad\\xc5\\xd5TF\\xdf\\xcb\\x05\\x82\\xd3\\xe7\\x81\\xf7\\x82\\xda\\xe5)\\xbc\\xd4F\\xe4\\xf9\\x8b\"k\\xb9\\x1fa\\x07\\xdb\\x97\\xa3\\x12s\\xe5\\xa8\\xd3\\xe5\\xd4\\xa8\\xd5\\xd1\\x06*D!1\\n\\xa7\\xac\\xd6bz@\\xeeP)j\\r\\xde\\x0f\\xba\\x12\\xe4|\\x11+S\\x9f\\xe0)\\xfa\\x8b\\x95n\\n\\xcc\\x9a\\xd0\\xc5\\xd4\\xe2\\x93\\xe0\\xd2\\xf0\\xca\\xdc\\x16\\x8e\\x19\\xea\\xaa\\xba\\xe2Y\\xca\\xf6\\x1at\\xa8\\x1f\\xa4R\\xc9\\xb4p\\xdcSb\\xf5\\xcf\\x04l\\x9a\\x87\\x93x\\x86\\'QP\\xe8\\xe8|c\\xc9\\x8c\\x01\\xe5\\x16\\x81wu\\xf0\\x1f#\\xf2\\xf2F\\xee\\xbd\\x87\\x91\\x14\\x8c\\xc6\\xfc\\x1a\\x1c>:\\xc6\\xd2\\x91Q#^\\xe74\\x10N`\\xebn4\\xb1\\x1cQ7\\xa1L\\n\\xe6j\\xe0R\\xd5cp\\xd5\\xd6\\xb9\\xed\\x11\\xcb#\\xf2\\xb7\\x9bk\\xae\\xdby\"\\xe7mI+\\x12\\xa7\\x084q\\xcdUT\\xf8\\xd8\\xe0m\\xe6\\xf6w\\xc9t|\\x9c\\x82<\\x1a\\x86zgL\\xc7\\x0b\\xdc5\\xa2\\xcdi\\xb0\\x06\\xddW\\xb9\\xf9\\xaeC\\x1f\\xac\\x96\\xad\\xb5Q\\xb5\\xa4\\x06\\xdc9\\xce\\xe1\\xd8\\xa1|\\x1d\\xd2\\x8a\\xab8\\xbcrfJK\\x9a\\xeb\\xdd\\xdb\\x05\\x9d\\xe2Y\\x9a\\xe2\\x1cK\\xc5\\xf2\\xb47GX\\\\\\xeb\\xd8\\x865\\xcf\\x7f4.\\xef+n\\xc5v\\xb2\\xa4QP\\xd3\\xd2B2\\xce\\xc7=\\xf2I\\xa16{@\\x00t\\x0c\\xb7\\xd3\\xa5\\xc7\\xa1]\\x7fG\\x9f*v\\xd9\\x8awJ4A\\xecJ\\x00;\\x95B%\\xcc\\x1c\\xdb\\x12\\xa5#\\xf3\\x84V\\xe9\\x88U|C\\xde\\x9b\\x85\\x9bb4\\xe7\\xdf\\tk\\xbf\\xdc*~!Q\\x7f\\x93\\xd1k\\xed\\xfb*\\x8fZ\\xde\\xd5\\xb1\\xca\\x03sE\\xf0\\x7fu\\x90=c{V\\xae;\\xb5!?\\xd3\\xfd\\xd2\\x97\\xe4\\x8f\\xb1\\xc7d\\x8c\\x89\\x13\\x13\\xde\\xa3VDX!\\x08@\\x85Ny\\xbd\\xbb\\x13P\\x80\\x0e\\n\\xd1\\xd6\\x85\\x9f\\xdeUn\\n\\xcf\\xf2M\\x1e\\xf9Y\\x91\\xa8\\x95\\xce\\xea\\xe6\\x1b\\xe9\\xcc?L\\xaaguk\\x0f\\xbey,m\\xe4\\x14Ki\\xa8\\xf9+\\xb7p\\xbd_\\xc1\\x14\\xb0W`\\xb8\\x86\\x1b3X\\x1fM?<\\xd79\\xa1\\xd7\\x12\\x00-c\\xd7\\x1f\\xddy@\\xddi\\xe0U\\xf8\\x86\\x19[\\xcfa\\xf3:\\'<ep\\x1b<t\\x11\\xc4!\\xabC\\x84\\xfa$\\x99\\xeb\\xb1\\xd3\\xd1\\xe1\\x92\\xcfS1i\\xb0\\xd1\\xa4\\xd8;\\xaa\\xc3E\\xcb\\xe2\\xd5\\xa1\\xfc\\xf3sft\\xa71\\xca6\\xea\\xee[m\\xe4\\xf5N7\\x87EW\\x0c\\xe1\\xd3:\\x9a\\n\\x87\\xc2\\xe7\\x1b\\xb4H\\xc0\\xe0[\\xd2/\\x98k\\xf9V5N\\r]M!a\\x8d\\xa4\\xf4\\xdf^\\xe5\\x15\\ru;\\x1eN\\xa5\\xa1\\xc4KI4\\x0et\\xa4\\x96\\xb8\\x92@\\x06\\xc4,\\xc7\\x82\\t\\xfb\\xafC8,\\xa4\\xf9\\xd6\\xb6\\xce\\xbe\\xc6\\xeb\\x98\\xe5\\x16\\x160\\xb2\\xc6\\xb9\\xcd2L\\xcep7\\x8bY{6\\xfd\\xba\\x9e\\xcbt\\xab\\xc4\\xe4\\xc9\\x1aV`\\x93\\xa5\\x88H\\x8b%\\xd9h\\x89%4\\xdc\\xcdDr[\\xd0p*J\\x89[5T\\xb27g\\xb8\\x90\\xaa\\xa7\\xc6\\xb2\\xd2\\xbb4\\x9e\\x94/\\xb6;V\\x9e4|\\x8a]}\\x82\\xb3\\x07\\xa6\\x16\\x8e.o\\x1d)\\xf7J\\x9c\\xb7D\\xa4v\\xb35\\xc5F\\x9e\\xe4\\xc5RL\\x10\\x84 B\\x84\\x14%L\\x04V\\x07\\xe1m\\xef\\xaa\\xeav\\xfe\\x1c\\xff\\x00r\\xcc\\x8dD\\x8e\\xc4\\xec.\\xac\\xd31\\xec%\\xc0n-d\\xeax\\xb5\\x8f\\xde\\xba\\xd2d-h\\xbf\\x15\\xa5\\x1bB\\xb2\\x8cT\\x84[\\xc9\\xfa\\xab\\xf4q5\\x97w\\xb5\\xdc\\x9c\\xd0\\x089\\x87\\x14\\xe8[\\x90<\\xf0\\xb5\\xd6\\xd2\\x11\\xeb\\xbc\\x9f\\x15?\\xfc\\x9c\\x02\\xa3\\r{\\rL8\\\\l\\x9e\\x99\\xe6\\xde1\\x19\\xb9ha\\xfc\\xcd\\x1a\\xed\\xedu\\xa9\\xe0\\x92\\x9b\\x15\\xad\\x022\\x04\\xc7\\xd8v\\x85ix=\\xa7\\x8a~J\\xe1\\xd5\\xae\\x8f4\\xf1F\\xd66\\xe3P\\xc640\\x01\\xd7a~\\xd5k\\x1f\\xc2\\xa90\\xcf\\x16\\xc5\\xf0\\xf8\\xbc\\xe3\\xea\\x1a&m\\xc9\\x0e\\xcf\\xc6\\xdc\\r\\xcf\\xddK.?\\x92:1d\\xf8\\xc8\\xe7\\xaah\\xa2\\x8d\\xf2\\xc9Q\\x19<\\xd8ql \\x80e z#\\xa0\\x13\\xa5\\xd7\\x8ar\\x82\\xb2z\\xfa\\xa9k*\\x8d\\xe6\\x9d\\xe5\\xee\\x16\\xb0h\\xe0\\x00\\xe0\\x06\\xc0t\\x05\\xee\\xbc\\xae\\x89\\xf4\\x18\\xac5\\x0f\\xd6Y\"\\r\\x89\\x9c\\x1a5\\xd4\\xf5\\xdc\\x95\\xe3\\\\\\xb6\\x8a\\x08yI[MNC\\xdb\\x14\\x99\\x1e\\xe6\\xed\\xce\\x0fN\\xddY\\xb3*F)D\\x96I\\xb9H\\xe7!\\xf5\\x82\\xfcT\\xcf\\x84\\x11p\\x9ab, \\x93\\xb1\\xe0\\xa4\\xccl\\xe3\\xc0\\x14\\x18)\\xbd\\xa5\\xa6\\xc9cV\\x1c\\x03\\x85\\xd4.\\x01\\xa2\\xfcIYhho\\xb4\\xafb>\\xaa\\x0e\\xc2\\xb3\\xee\\xa4t\\xce{C^v\\xd9a\\xc7T\\xcd\\xa9h\\xd0\\xc7&\\'\\x94\\x8dm\\xd6\\x8c\\rB\\x93\"\\x10\\x141\\t\\x12\\xa0@\\xa6g\\xab\\xb7\\xbc\\xa2\\xb6\\x8aza{\\x0e\\xb4y\\x1a4\\x9a\\xd0\\xd9\\xa9\\x80\\xe8=\\xca\\xe8\\xd9V#\\xce\\xd3\\xf5^\\xff\\x00\\xf1V@\\xd1PC\\x0e\\x80\\xf6\\xa9\\xe8\\x9a\\xc9\\x1d$ovW\\xba7sw\\xb5\\x8b\\xb7\\x00\\xf5\\x1d~vP\\x91pBsE\\xa1\\x91\\xc3p\\xd3d\\x01\\xee>\\n*\\xb9\\xdeH\\xd3\\xc4\\x0b\\xc9\\xa6{\\xa2/s\\x0bC\\xacz\\xfbV\\xd6!YT\\xf9\\xe5\\xa6\\xa2kD\\x103<\\xb3\\x16\\x87dp\\xf2\\x80h<o\\xf4\\\\\\xef\\x82V\\xdb\\x920\\x96:\\xe2I\\t\\xccM\\xeel3}\\xee>K\\xb0||\\xd42\\x98\\x86\\xe4|\\xc9p\\'\\xbc\\xad\\xa5\\xa0\\x99\\x83\\x89\\xd2\\xd1a\\xb4\\xb58\\xc5s\\x9fU-,N\\x93\\x9c\\x9d\\xf9\\xaeZ.,6\\xdf\\xa9|\\xe2\\xf9d\\xaa\\xaa\\x96y]\\x9aI\\x1e^\\xe3\\xd2\\xe2nO\\xd4\\xaff\\xf0\\xd5\\x8b6\\x8b\\x01\\x83\\x0b\\x84\\x9er\\xbaK\\xbe\\xdf\\xd3a\\x07\\xee\\xeb}\\n\\xf1\\x98\\x80kn\\xb3 D\\x13\\xb8\\xe6\\x03\\x89;$\\x94\\xe5cZ8\\x04\\xd2s\\xcc_\\xc3\\x82d\\xa6\\xeb#\\x06\\x92FQ\\xb9\\xd0&L\\xeb\\xbe\\xc3f\\xe8\\x12\\xc2r\\xbf7\\xe5\\x04\\x8e\\xd5\\x19I\\x80\\x88B\\x12\\x00;%\\x06\\xc1!\\xd9+R\\x00\\xccP\\x92\\xc8@\\xc4J\\x91*\\x04/\\x05o\\x0fm\\xe6\\x1d\\x17\\xba\\xa6\\xb4p\\xb6\\xea^v\\t\\xa04\\x00\\xbc\\xcc\\xb9\\xd4\\\\\\x8f\\xa5\\x95\\x967EJ9G\\x8d\\x86\\x9fi\\xb6\\x17\\xff\\x00\\xddJ\\xfb-m\\xd6\\xc0am\\x8ay\\x03#\\xc7\\x02\\xd4\\x93\\x8c\\xac\\x0e\\xbaJc\\x9a7\\x03\\xbd\\xbe\\xc8\\x03\\xd8<\\x0cI\\xcerN8\\xef\\xe8\\xc9k|\\x87\\xf8]\\xa4/\\x91\\xd05\\x937-\\xea\\x1e\\x06\\xbe\\x93E\\xc8\\xfb\\xdbN\\xa5\\xe6\\x1e\\x03*\\x8f9=&\\xbb\\x1f\\xa3o\\xff\\x00e\\xdf\\xf2\\xcb\\x13\\x18.\\x13S\\\\\\xd2\\x01\\xa5\\xa5\\x91\\xe2\\xfbs\\x8e-l\\x7f{\\xad\\xde\\x82\\xe4\\xf0\\xcf\\t\\xf8\\xc0\\xc69cTcq0R\\x1f\\x15\\x8c_O \\x90\\xe3\\xf3vo\\xb2\\xe5\\xa56nQ\\xdaP\\\\\\xe78\\xbd\\xe4\\xbd\\xce;\\x9d\\xc9\\xe9I%\\x9a\\xcc\\xbb\\xdfr\\xa62\\xb96\\x1a(\\xce\\xc5))\\x0e\\xd7@\\x11\\xedt\\x89JE\\x90\\x04!\"\\x00R\\x80\\x91\\t\\x00\\xf4&!\\x03\\xb1P\\x84& Z\\xd8sG4A\\xda\\xd7H\\x84\\xd0\\x15\\x99;\\x9d[\\x1b\\xce\\xf9\\xc0]\\x04{\\x1e\\xc4\\xa8Z\\x01\\xb5^\\x85\\xba\\x94t\\xe6\\xceh\\xe0tB\\x13\\x03\\xb9\\xf0\\x1e\\xe2\\xdeUb,\\x1b\\x08\\x9cG\\xd4-\\x8f\\x0e\\x98\\x8c\\xd1RS\\xd02\\xc2)\\x9e\\x0b\\xcfNQp>\\xaf\\xfb!\\t\\xf0.O\\x19\\xa6\\x19\\xa7u\\xfd\\x81a\\xf3QT\\xbb\\xcbp\\x1a\\x00\\x84,\\x0c\\xacJiq(B@5\\x08B@\\x08B\\x10\\x02!\\x08H\\x01\\x08B\\x00\\xff\\xd9'"
      ]
     },
     "execution_count": 12,
     "metadata": {},
     "output_type": "execute_result"
    }
   ],
   "source": [
    "requests.get(\"https://encrypted-tbn0.gstatic.com/images?q=tbn:ANd9GcQY_R5NSNoZkSlMo3hf86COGJ4fCv0s6Nx4k8uCGkWc6YGOn_m4-rIOQ3GhOhg&s\").content"
   ]
  },
  {
   "cell_type": "code",
   "execution_count": 13,
   "id": "6c644d3a",
   "metadata": {},
   "outputs": [],
   "source": [
    "save_dir=\"images/\"\n",
    "if not os.path.exists(save_dir):\n",
    "    os.makedirs(save_dir)"
   ]
  },
  {
   "cell_type": "code",
   "execution_count": 14,
   "id": "bdacb2f3",
   "metadata": {},
   "outputs": [
    {
     "name": "stdout",
     "output_type": "stream",
     "text": [
      "0\n",
      "1\n",
      "2\n",
      "3\n",
      "4\n",
      "5\n",
      "6\n",
      "7\n",
      "8\n",
      "9\n",
      "10\n",
      "11\n",
      "12\n",
      "13\n",
      "14\n",
      "15\n",
      "16\n",
      "17\n",
      "18\n",
      "19\n"
     ]
    }
   ],
   "source": [
    "for i in image_tags:\n",
    "    print(image_tags.index(i))\n",
    "    "
   ]
  },
  {
   "cell_type": "code",
   "execution_count": 15,
   "id": "74d5a2cb",
   "metadata": {},
   "outputs": [],
   "source": [
    "for i in image_tags:\n",
    "    image_url=i['src']\n",
    "    image_data=requests.get(image_url).content\n",
    "    with open(os.path.join(save_dir,f\"{query}_{image_tags.index(i)}.jpg\"),\"wb\") as f:\n",
    "        f.write(image_data)"
   ]
  },
  {
   "cell_type": "code",
   "execution_count": null,
   "id": "21128816",
   "metadata": {},
   "outputs": [],
   "source": []
  }
 ],
 "metadata": {
  "kernelspec": {
   "display_name": "Python 3 (ipykernel)",
   "language": "python",
   "name": "python3"
  },
  "language_info": {
   "codemirror_mode": {
    "name": "ipython",
    "version": 3
   },
   "file_extension": ".py",
   "mimetype": "text/x-python",
   "name": "python",
   "nbconvert_exporter": "python",
   "pygments_lexer": "ipython3",
   "version": "3.11.5"
  }
 },
 "nbformat": 4,
 "nbformat_minor": 5
}
